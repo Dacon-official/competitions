{
 "cells": [
  {
   "cell_type": "markdown",
   "metadata": {},
   "source": [
    "## [Dacon] AI프렌즈 시즌2 강수량 산출 경진대회\n",
    "## giba.kim (팀명)\n",
    "## 2020년 5월 29일 (제출날짜)"
   ]
  },
  {
   "cell_type": "markdown",
   "metadata": {},
   "source": [
    "### Train, Test feather Convert Code\n",
    "https://dacon.io/competitions/official/235591/codeshare/902?page=1&dtype=recent&ptype=pub"
   ]
  },
  {
   "cell_type": "markdown",
   "metadata": {},
   "source": [
    "## 1. 라이브러리 및 데이터\n",
    "## Library & Data"
   ]
  },
  {
   "cell_type": "code",
   "execution_count": 10,
   "metadata": {
    "ExecuteTime": {
     "end_time": "2020-05-04T11:49:55.500614Z",
     "start_time": "2020-05-04T11:49:54.949493Z"
    }
   },
   "outputs": [],
   "source": [
    "import os\n",
    "from tqdm import tqdm\n",
    "import tqdm\n",
    "import numpy as np\n",
    "import pandas as pd"
   ]
  },
  {
   "cell_type": "code",
   "execution_count": 13,
   "metadata": {
    "ExecuteTime": {
     "end_time": "2020-05-04T11:51:40.337687Z",
     "start_time": "2020-05-04T11:51:40.332685Z"
    }
   },
   "outputs": [],
   "source": [
    "INPUT_COL = [f\"temp{i}\" for i in range(1, 10)] + ['type', 'long_GMI', 'lat_GMI', 'long_DPR', 'lat_DPR'] \n",
    "TARGET_COL = ['precipitation']\n",
    "TEST_COL = INPUT_COL + ['orbit', 'subset', 'pixel']\n",
    "TRAIN_COL = INPUT_COL + TARGET_COL + ['orbit', 'subset', 'pixel']"
   ]
  },
  {
   "cell_type": "code",
   "execution_count": 14,
   "metadata": {
    "ExecuteTime": {
     "end_time": "2020-05-04T11:51:40.969824Z",
     "start_time": "2020-05-04T11:51:40.965823Z"
    }
   },
   "outputs": [],
   "source": [
    "TRAIN_DIR_PATH = '../input/train/'\n",
    "TEST_DIR_PATH = '../input/test/'\n",
    "TRAIN_FEATHER_PATH = '../input/train.ftr'\n",
    "TEST_FEATHER_PATH = '../input/test.ftr'"
   ]
  },
  {
   "cell_type": "code",
   "execution_count": 15,
   "metadata": {
    "ExecuteTime": {
     "end_time": "2020-05-04T11:51:54.244645Z",
     "start_time": "2020-05-04T11:51:54.232642Z"
    }
   },
   "outputs": [],
   "source": [
    "PIXEL_COL = np.arange(1, 1601)[:, None]\n",
    "\n",
    "def add_pad(nd, file):\n",
    "    orbit, subset = file.split('_')[1:]\n",
    "    subset = subset[:2]\n",
    "    nd = np.pad(nd, ((0, 0), (0, 1)), constant_values=int(orbit))\n",
    "    nd = np.pad(nd, ((0, 0), (0, 1)), constant_values=int(subset))\n",
    "    return np.c_[nd, PIXEL_COL]\n",
    "\n",
    "def make_dataframe(dir_path, is_train):\n",
    "    np_list = []\n",
    "    file_list = os.listdir(dir_path)\n",
    "    for file in tqdm(file_list):\n",
    "        \n",
    "        file_path = dir_path + file\n",
    "        nd = np.load(file_path).astype(np.float32)  # 40 x 40 x ?\n",
    "        dim = nd.shape[-1]\n",
    "        nd = nd.reshape(-1, dim)                    # 1600    x ?\n",
    "        nd = add_pad(nd, file)\n",
    "        \n",
    "        np_list.append(nd)\n",
    "    \n",
    "    feature_col = TRAIN_COL.copy()\n",
    "    if is_train is False:\n",
    "        feature_col = TEST_COL.copy()\n",
    "        \n",
    "    df = pd.DataFrame(np.vstack(np_list), columns=feature_col, dtype=np.float32)\n",
    "    df[['orbit', 'subset', 'pixel']] = df[['orbit', 'subset', 'pixel']].astype(np.int32)\n",
    "    df.sort_values(by=['orbit', 'subset', 'pixel'], ignore_index=True, inplace=True)\n",
    "    return df"
   ]
  },
  {
   "cell_type": "code",
   "execution_count": 5,
   "metadata": {
    "ExecuteTime": {
     "end_time": "2020-05-04T12:00:18.983857Z",
     "start_time": "2020-05-04T11:51:56.620145Z"
    }
   },
   "outputs": [
    {
     "name": "stderr",
     "output_type": "stream",
     "text": [
      "100%|███████████████████████████████████████████████████████████████████████████| 76345/76345 [07:33<00:00, 168.16it/s]\n"
     ]
    }
   ],
   "source": [
    "train_df = make_dataframe(TRAIN_DIR_PATH, True)"
   ]
  },
  {
   "cell_type": "code",
   "execution_count": 16,
   "metadata": {
    "ExecuteTime": {
     "end_time": "2020-05-04T12:07:30.616801Z",
     "start_time": "2020-05-04T12:07:25.997763Z"
    }
   },
   "outputs": [
    {
     "name": "stderr",
     "output_type": "stream",
     "text": [
      "100%|████████████████████████████████████████████████████████████████████████████| 2416/2416 [00:01<00:00, 1378.41it/s]\n"
     ]
    }
   ],
   "source": [
    "test_df = make_dataframe(TEST_DIR_PATH, False)"
   ]
  },
  {
   "cell_type": "code",
   "execution_count": 11,
   "metadata": {
    "ExecuteTime": {
     "end_time": "2020-05-04T12:07:48.212410Z",
     "start_time": "2020-05-04T12:07:38.867109Z"
    }
   },
   "outputs": [],
   "source": [
    "train_df.to_feather(TRAIN_FEATHER_PATH)\n",
    "test_df.to_feather(TEST_FEATHER_PATH)"
   ]
  },
  {
   "cell_type": "code",
   "execution_count": 12,
   "metadata": {
    "ExecuteTime": {
     "end_time": "2020-05-04T12:07:55.130391Z",
     "start_time": "2020-05-04T12:07:55.123390Z"
    }
   },
   "outputs": [
    {
     "data": {
      "text/plain": [
       "(122152000, 18)"
      ]
     },
     "execution_count": 12,
     "metadata": {},
     "output_type": "execute_result"
    }
   ],
   "source": [
    "train_df.shape"
   ]
  },
  {
   "cell_type": "code",
   "execution_count": 13,
   "metadata": {
    "ExecuteTime": {
     "end_time": "2020-05-04T12:08:08.607220Z",
     "start_time": "2020-05-04T12:08:08.583220Z"
    }
   },
   "outputs": [
    {
     "data": {
      "text/html": [
       "<div>\n",
       "<style scoped>\n",
       "    .dataframe tbody tr th:only-of-type {\n",
       "        vertical-align: middle;\n",
       "    }\n",
       "\n",
       "    .dataframe tbody tr th {\n",
       "        vertical-align: top;\n",
       "    }\n",
       "\n",
       "    .dataframe thead th {\n",
       "        text-align: right;\n",
       "    }\n",
       "</style>\n",
       "<table border=\"1\" class=\"dataframe\">\n",
       "  <thead>\n",
       "    <tr style=\"text-align: right;\">\n",
       "      <th></th>\n",
       "      <th>temp1</th>\n",
       "      <th>temp2</th>\n",
       "      <th>temp3</th>\n",
       "      <th>temp4</th>\n",
       "      <th>temp5</th>\n",
       "      <th>temp6</th>\n",
       "      <th>temp7</th>\n",
       "      <th>temp8</th>\n",
       "      <th>temp9</th>\n",
       "      <th>type</th>\n",
       "      <th>long_GMI</th>\n",
       "      <th>lat_GMI</th>\n",
       "      <th>long_DPR</th>\n",
       "      <th>lat_DPR</th>\n",
       "      <th>precipitation</th>\n",
       "      <th>orbit</th>\n",
       "      <th>subset</th>\n",
       "      <th>pixel</th>\n",
       "    </tr>\n",
       "  </thead>\n",
       "  <tbody>\n",
       "    <tr>\n",
       "      <th>0</th>\n",
       "      <td>174.677109</td>\n",
       "      <td>97.509834</td>\n",
       "      <td>203.541229</td>\n",
       "      <td>143.567032</td>\n",
       "      <td>241.500748</td>\n",
       "      <td>222.171906</td>\n",
       "      <td>170.156082</td>\n",
       "      <td>276.060486</td>\n",
       "      <td>259.399963</td>\n",
       "      <td>0.0</td>\n",
       "      <td>159.494385</td>\n",
       "      <td>5.641016</td>\n",
       "      <td>159.641464</td>\n",
       "      <td>5.574192</td>\n",
       "      <td>0.0</td>\n",
       "      <td>10462</td>\n",
       "      <td>1</td>\n",
       "      <td>1</td>\n",
       "    </tr>\n",
       "    <tr>\n",
       "      <th>1</th>\n",
       "      <td>174.911652</td>\n",
       "      <td>96.689583</td>\n",
       "      <td>203.997940</td>\n",
       "      <td>143.496780</td>\n",
       "      <td>240.993332</td>\n",
       "      <td>222.621750</td>\n",
       "      <td>169.170502</td>\n",
       "      <td>274.717133</td>\n",
       "      <td>256.798950</td>\n",
       "      <td>0.0</td>\n",
       "      <td>159.534912</td>\n",
       "      <td>5.609135</td>\n",
       "      <td>159.641464</td>\n",
       "      <td>5.574192</td>\n",
       "      <td>0.0</td>\n",
       "      <td>10462</td>\n",
       "      <td>1</td>\n",
       "      <td>2</td>\n",
       "    </tr>\n",
       "    <tr>\n",
       "      <th>2</th>\n",
       "      <td>173.597321</td>\n",
       "      <td>97.981293</td>\n",
       "      <td>204.016159</td>\n",
       "      <td>143.279175</td>\n",
       "      <td>241.584793</td>\n",
       "      <td>221.940430</td>\n",
       "      <td>168.437149</td>\n",
       "      <td>274.446960</td>\n",
       "      <td>257.048035</td>\n",
       "      <td>0.0</td>\n",
       "      <td>159.575806</td>\n",
       "      <td>5.577742</td>\n",
       "      <td>159.641464</td>\n",
       "      <td>5.574192</td>\n",
       "      <td>0.0</td>\n",
       "      <td>10462</td>\n",
       "      <td>1</td>\n",
       "      <td>3</td>\n",
       "    </tr>\n",
       "    <tr>\n",
       "      <th>3</th>\n",
       "      <td>174.986160</td>\n",
       "      <td>96.862984</td>\n",
       "      <td>201.832352</td>\n",
       "      <td>141.562363</td>\n",
       "      <td>239.778030</td>\n",
       "      <td>220.447968</td>\n",
       "      <td>166.742813</td>\n",
       "      <td>272.904358</td>\n",
       "      <td>253.840561</td>\n",
       "      <td>0.0</td>\n",
       "      <td>159.617081</td>\n",
       "      <td>5.546840</td>\n",
       "      <td>159.625137</td>\n",
       "      <td>5.532823</td>\n",
       "      <td>0.0</td>\n",
       "      <td>10462</td>\n",
       "      <td>1</td>\n",
       "      <td>4</td>\n",
       "    </tr>\n",
       "    <tr>\n",
       "      <th>4</th>\n",
       "      <td>174.257904</td>\n",
       "      <td>96.435356</td>\n",
       "      <td>202.192291</td>\n",
       "      <td>142.080582</td>\n",
       "      <td>239.759964</td>\n",
       "      <td>221.311798</td>\n",
       "      <td>168.050186</td>\n",
       "      <td>272.944885</td>\n",
       "      <td>253.975052</td>\n",
       "      <td>0.0</td>\n",
       "      <td>159.658707</td>\n",
       "      <td>5.516435</td>\n",
       "      <td>159.669113</td>\n",
       "      <td>5.510320</td>\n",
       "      <td>0.0</td>\n",
       "      <td>10462</td>\n",
       "      <td>1</td>\n",
       "      <td>5</td>\n",
       "    </tr>\n",
       "  </tbody>\n",
       "</table>\n",
       "</div>"
      ],
      "text/plain": [
       "        temp1      temp2       temp3       temp4       temp5       temp6  \\\n",
       "0  174.677109  97.509834  203.541229  143.567032  241.500748  222.171906   \n",
       "1  174.911652  96.689583  203.997940  143.496780  240.993332  222.621750   \n",
       "2  173.597321  97.981293  204.016159  143.279175  241.584793  221.940430   \n",
       "3  174.986160  96.862984  201.832352  141.562363  239.778030  220.447968   \n",
       "4  174.257904  96.435356  202.192291  142.080582  239.759964  221.311798   \n",
       "\n",
       "        temp7       temp8       temp9  type    long_GMI   lat_GMI    long_DPR  \\\n",
       "0  170.156082  276.060486  259.399963   0.0  159.494385  5.641016  159.641464   \n",
       "1  169.170502  274.717133  256.798950   0.0  159.534912  5.609135  159.641464   \n",
       "2  168.437149  274.446960  257.048035   0.0  159.575806  5.577742  159.641464   \n",
       "3  166.742813  272.904358  253.840561   0.0  159.617081  5.546840  159.625137   \n",
       "4  168.050186  272.944885  253.975052   0.0  159.658707  5.516435  159.669113   \n",
       "\n",
       "    lat_DPR  precipitation  orbit  subset  pixel  \n",
       "0  5.574192            0.0  10462       1      1  \n",
       "1  5.574192            0.0  10462       1      2  \n",
       "2  5.574192            0.0  10462       1      3  \n",
       "3  5.532823            0.0  10462       1      4  \n",
       "4  5.510320            0.0  10462       1      5  "
      ]
     },
     "execution_count": 13,
     "metadata": {},
     "output_type": "execute_result"
    }
   ],
   "source": [
    "train_df.head()"
   ]
  }
 ],
 "metadata": {
  "kernelspec": {
   "display_name": "Python 3",
   "language": "python",
   "name": "python3"
  },
  "language_info": {
   "codemirror_mode": {
    "name": "ipython",
    "version": 3
   },
   "file_extension": ".py",
   "mimetype": "text/x-python",
   "name": "python",
   "nbconvert_exporter": "python",
   "pygments_lexer": "ipython3",
   "version": "3.7.6"
  },
  "latex_envs": {
   "LaTeX_envs_menu_present": true,
   "autoclose": false,
   "autocomplete": true,
   "bibliofile": "biblio.bib",
   "cite_by": "apalike",
   "current_citInitial": 1,
   "eqLabelWithNumbers": true,
   "eqNumInitial": 1,
   "hotkeys": {
    "equation": "Ctrl-E",
    "itemize": "Ctrl-I"
   },
   "labels_anchors": false,
   "latex_user_defs": false,
   "report_style_numbering": false,
   "user_envs_cfg": false
  }
 },
 "nbformat": 4,
 "nbformat_minor": 2
}
